{
 "cells": [
  {
   "cell_type": "code",
   "execution_count": 3,
   "id": "f90fa64e-e1eb-4038-aa30-258b2b06f9ac",
   "metadata": {},
   "outputs": [],
   "source": [
    "import numpy as np \n",
    "list_ = [ '1' , '2' , '3' , '4' , '5' ] \n",
    "array_list = np.array(object = list_) "
   ]
  },
  {
   "cell_type": "markdown",
   "id": "de59c4b1-bf65-4517-97f9-404b4d7966e4",
   "metadata": {},
   "source": [
    "Q1. Is there any difference in the data type of variables list_ and array_list? If there is then write a code  to print the data types of both the variables. "
   ]
  },
  {
   "cell_type": "code",
   "execution_count": 8,
   "id": "dfb5fa13-1649-4740-b3d9-7d875a23c15b",
   "metadata": {},
   "outputs": [
    {
     "data": {
      "text/plain": [
       "list"
      ]
     },
     "execution_count": 8,
     "metadata": {},
     "output_type": "execute_result"
    }
   ],
   "source": [
    "type(list_)"
   ]
  },
  {
   "cell_type": "code",
   "execution_count": 9,
   "id": "478540ab-e6ec-4277-b4f4-3437725e2b76",
   "metadata": {},
   "outputs": [
    {
     "data": {
      "text/plain": [
       "numpy.ndarray"
      ]
     },
     "execution_count": 9,
     "metadata": {},
     "output_type": "execute_result"
    }
   ],
   "source": [
    "type(array_list)"
   ]
  },
  {
   "cell_type": "code",
   "execution_count": 11,
   "id": "c89a717c-6be5-45d5-b2f4-d6cc1e2118a0",
   "metadata": {},
   "outputs": [
    {
     "data": {
      "text/plain": [
       "dtype('<U1')"
      ]
     },
     "execution_count": 11,
     "metadata": {},
     "output_type": "execute_result"
    }
   ],
   "source": [
    "array_list.dtype"
   ]
  },
  {
   "cell_type": "markdown",
   "id": "1dcdc4a8-3003-432d-801a-4b8d77c5279f",
   "metadata": {},
   "source": [
    "Q2. Write a code to print the data type of each and every element of both the variables list_ and  arra_list. "
   ]
  },
  {
   "cell_type": "code",
   "execution_count": 16,
   "id": "eb006621-3331-4bb4-bfc9-577f7b8c1952",
   "metadata": {},
   "outputs": [
    {
     "name": "stdout",
     "output_type": "stream",
     "text": [
      "<class 'str'>\n",
      "<class 'str'>\n",
      "<class 'str'>\n",
      "<class 'str'>\n",
      "<class 'str'>\n"
     ]
    }
   ],
   "source": [
    "for i in list_:\n",
    "    print(type(i))"
   ]
  },
  {
   "cell_type": "code",
   "execution_count": 17,
   "id": "386cffe8-2b26-4d2c-aeca-eec75c8e9481",
   "metadata": {},
   "outputs": [
    {
     "name": "stdout",
     "output_type": "stream",
     "text": [
      "<class 'numpy.str_'>\n",
      "<class 'numpy.str_'>\n",
      "<class 'numpy.str_'>\n",
      "<class 'numpy.str_'>\n",
      "<class 'numpy.str_'>\n"
     ]
    }
   ],
   "source": [
    "for i in array_list:\n",
    "    print(type(i))"
   ]
  },
  {
   "cell_type": "markdown",
   "id": "482689b5-37ae-4049-b52d-57f4b5885790",
   "metadata": {},
   "source": [
    "Q3. Considering the following changes in the variable, array_list: \n",
    "\n",
    "array_list = np.array(object = list_, dtype = int) \n",
    "\n",
    "Will there be any difference in the data type of the elements present in both the variables, list_ and  arra_list? If so then print the data types of each and every element present in both the variables, list_  and arra_list. \n"
   ]
  },
  {
   "cell_type": "code",
   "execution_count": 20,
   "id": "3f6c3d6d-c732-4188-90dd-abba7d19de60",
   "metadata": {},
   "outputs": [],
   "source": [
    "array_list = np.array(object = list_, dtype = int) "
   ]
  },
  {
   "cell_type": "code",
   "execution_count": 25,
   "id": "ce5e0bb1-5529-4a38-83a5-0cd4ab51baa1",
   "metadata": {},
   "outputs": [
    {
     "name": "stdout",
     "output_type": "stream",
     "text": [
      "<class 'str'>\n",
      "<class 'str'>\n",
      "<class 'str'>\n",
      "<class 'str'>\n",
      "<class 'str'>\n"
     ]
    }
   ],
   "source": [
    "for i in list_:\n",
    "    print(type(i))"
   ]
  },
  {
   "cell_type": "code",
   "execution_count": 26,
   "id": "18ea2774-2312-4909-abcd-db052a6d8428",
   "metadata": {},
   "outputs": [
    {
     "name": "stdout",
     "output_type": "stream",
     "text": [
      "<class 'numpy.int64'>\n",
      "<class 'numpy.int64'>\n",
      "<class 'numpy.int64'>\n",
      "<class 'numpy.int64'>\n",
      "<class 'numpy.int64'>\n"
     ]
    }
   ],
   "source": [
    "for i in array_list:\n",
    "    print(type(i))"
   ]
  },
  {
   "cell_type": "code",
   "execution_count": 29,
   "id": "7c5e74d8-2b66-44da-b91e-baf9421805aa",
   "metadata": {},
   "outputs": [],
   "source": [
    "# Consider the below code to answer further questions: \n",
    "import numpy as np\n",
    "num_list = [[1,2,3], [4,5,6]]\n",
    "num_array = np.array(object = num_list)"
   ]
  },
  {
   "cell_type": "markdown",
   "id": "ff33b670-ed42-4108-ac32-598f54af79ee",
   "metadata": {},
   "source": [
    "Q4. Write a code to find the following characteristics of variable, num_array: \n",
    "\n",
    "(i)  shape \n",
    "\n",
    "(ii) size "
   ]
  },
  {
   "cell_type": "code",
   "execution_count": 30,
   "id": "d7545e7b-23de-4caa-96bd-ccd257f4375a",
   "metadata": {},
   "outputs": [
    {
     "data": {
      "text/plain": [
       "(2, 3)"
      ]
     },
     "execution_count": 30,
     "metadata": {},
     "output_type": "execute_result"
    }
   ],
   "source": [
    "num_array.shape"
   ]
  },
  {
   "cell_type": "code",
   "execution_count": 31,
   "id": "bc377242-198e-4a89-9075-e2f935325334",
   "metadata": {},
   "outputs": [
    {
     "data": {
      "text/plain": [
       "6"
      ]
     },
     "execution_count": 31,
     "metadata": {},
     "output_type": "execute_result"
    }
   ],
   "source": [
    "num_array.size"
   ]
  },
  {
   "cell_type": "markdown",
   "id": "1896034d-60e4-4990-8342-a1f9e3deb9f8",
   "metadata": {},
   "source": [
    "Q5. Write a code to create numpy array of 3*3 matrix containing zeros only, using a numpy array  creation function. \n",
    "\n",
    "[Hint: The size of the array will be 9 and the shape will be (3,3).] "
   ]
  },
  {
   "cell_type": "code",
   "execution_count": 35,
   "id": "b5e5f073-5864-4290-9f65-e6cbf1a8bac9",
   "metadata": {},
   "outputs": [],
   "source": [
    "arr = np.zeros((3,3))"
   ]
  },
  {
   "cell_type": "code",
   "execution_count": 36,
   "id": "c937235c-7441-46af-9f7b-cabe736bd769",
   "metadata": {},
   "outputs": [
    {
     "data": {
      "text/plain": [
       "array([[0., 0., 0.],\n",
       "       [0., 0., 0.],\n",
       "       [0., 0., 0.]])"
      ]
     },
     "execution_count": 36,
     "metadata": {},
     "output_type": "execute_result"
    }
   ],
   "source": [
    "arr"
   ]
  },
  {
   "cell_type": "code",
   "execution_count": 37,
   "id": "c1b825d9-5c00-4619-9f30-470063aac691",
   "metadata": {},
   "outputs": [
    {
     "data": {
      "text/plain": [
       "(3, 3)"
      ]
     },
     "execution_count": 37,
     "metadata": {},
     "output_type": "execute_result"
    }
   ],
   "source": [
    "arr.shape"
   ]
  },
  {
   "cell_type": "markdown",
   "id": "88821204-0ce4-4c5f-9bc5-d45d1626ef18",
   "metadata": {},
   "source": [
    "Q6. Create an identity matrix of shape (5,5) using numpy functions? \n",
    "\n",
    "[Hint: An identity matrix is a matrix containing 1 diagonally and other elements will be 0.] \n"
   ]
  },
  {
   "cell_type": "code",
   "execution_count": 40,
   "id": "22398a35-799c-46a6-bbd9-6294bdb9a350",
   "metadata": {},
   "outputs": [],
   "source": [
    "arr1 = np.eye(5)"
   ]
  },
  {
   "cell_type": "code",
   "execution_count": 41,
   "id": "9dc7750e-484a-48d2-9a11-e79f81715e90",
   "metadata": {},
   "outputs": [
    {
     "data": {
      "text/plain": [
       "array([[1., 0., 0., 0., 0.],\n",
       "       [0., 1., 0., 0., 0.],\n",
       "       [0., 0., 1., 0., 0.],\n",
       "       [0., 0., 0., 1., 0.],\n",
       "       [0., 0., 0., 0., 1.]])"
      ]
     },
     "execution_count": 41,
     "metadata": {},
     "output_type": "execute_result"
    }
   ],
   "source": [
    "arr1"
   ]
  },
  {
   "cell_type": "code",
   "execution_count": null,
   "id": "a5690054-67c7-4fd8-b038-f53e3acd75f3",
   "metadata": {},
   "outputs": [],
   "source": []
  }
 ],
 "metadata": {
  "kernelspec": {
   "display_name": "Python 3 (ipykernel)",
   "language": "python",
   "name": "python3"
  },
  "language_info": {
   "codemirror_mode": {
    "name": "ipython",
    "version": 3
   },
   "file_extension": ".py",
   "mimetype": "text/x-python",
   "name": "python",
   "nbconvert_exporter": "python",
   "pygments_lexer": "ipython3",
   "version": "3.10.8"
  }
 },
 "nbformat": 4,
 "nbformat_minor": 5
}
